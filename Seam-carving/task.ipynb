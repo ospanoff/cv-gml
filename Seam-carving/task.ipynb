{
 "cells": [
  {
   "cell_type": "code",
   "execution_count": 1,
   "metadata": {
    "collapsed": true
   },
   "outputs": [],
   "source": [
    "import numpy as np\n",
    "from skimage import io, color\n",
    "import matplotlib.pyplot as plt"
   ]
  },
  {
   "cell_type": "code",
   "execution_count": 2,
   "metadata": {
    "collapsed": true
   },
   "outputs": [],
   "source": [
    "import pickle"
   ]
  },
  {
   "cell_type": "code",
   "execution_count": 3,
   "metadata": {
    "collapsed": false
   },
   "outputs": [],
   "source": [
    "w = np.array([0.299, 0.587, 0.114])\n",
    "\n",
    "def count_energy(img_gs):\n",
    "    h_grad = np.zeros_like(img_gs)\n",
    "    h_grad[1:-1] = img_gs[2:] - img_gs[:-2]\n",
    "    h_grad[0] = img_gs[1] - img_gs[0]\n",
    "    h_grad[-1] = img_gs[-1] - img_gs[-2]\n",
    "    \n",
    "    v_grad = np.zeros_like(img_gs)\n",
    "    v_grad[:, 1:-1] = img_gs[:, 2:] - img_gs[:, :-2]\n",
    "    v_grad[:, 0] = img_gs[:, 1] - img_gs[:, 0]\n",
    "    v_grad[:, -1] = img_gs[:, -1] - img_gs[:, -2]\n",
    "    \n",
    "    return np.sqrt(h_grad ** 2 + v_grad ** 2)\n",
    "\n",
    "def count_seam(img_energy, MAX_ENERGY):\n",
    "    seam = np.copy(img_energy)\n",
    "    layers = MAX_ENERGY * np.ones((img_energy.shape[1] + 2, 3))\n",
    "    for i, energy in enumerate(seam[:-1]):\n",
    "        layers[:-2, 0] = np.copy(energy)\n",
    "        layers[1:-1, 1] = np.copy(energy)\n",
    "        layers[2:, 2] = np.copy(energy)\n",
    "    \n",
    "        min_energy = np.min(layers[1:-1], axis=1)\n",
    "        seam[i + 1] += min_energy\n",
    "        \n",
    "    return seam\n",
    "\n",
    "def get_min_seam(img_seam):\n",
    "    seam = np.zeros(img_seam.shape[0], dtype=np.int)\n",
    "    armin = np.argmin(img_seam[-1])\n",
    "    for i in range(img_seam.shape[0] - 1, -1, -1):\n",
    "        if armin > 0:\n",
    "            tmp = np.argmin(img_seam[i, armin - 1: armin + 2]) - 1\n",
    "        else:\n",
    "            tmp = np.argmin(img_seam[i, :2])\n",
    "        armin += tmp\n",
    "        seam[i] = armin\n",
    "    \n",
    "    return seam"
   ]
  },
  {
   "cell_type": "code",
   "execution_count": 4,
   "metadata": {
    "collapsed": true
   },
   "outputs": [],
   "source": [
    "def seam_carve_nomask(img, mode, mask=None):\n",
    "    MAX_ENERGY = 256 * img.shape[0] * img.shape[1]\n",
    "    mode, action = mode.split(' ')\n",
    "    resize = -1  # 1 if action == 'expand' else -1\n",
    "    if mode == 'vertical':\n",
    "        img = img.transpose(1, 0, 2)\n",
    "        if mask is not None:\n",
    "            mask = mask.T\n",
    "\n",
    "    resized_img = np.zeros((img.shape[0], img.shape[1] + resize, 3))\n",
    "    carve_mask = np.zeros(img.shape[:2])\n",
    "    if mask is None:\n",
    "        resized_mask = None\n",
    "    else:\n",
    "        resized_mask = np.zeros((img.shape[0], img.shape[1] + resize))\n",
    "\n",
    "    img_gray = img.dot(w)\n",
    "    img_energy = count_energy(img_gray)\n",
    "    if mask is not None:\n",
    "        img_energy += MAX_ENERGY * mask\n",
    "    img_seam = count_seam(img_energy, MAX_ENERGY)\n",
    "\n",
    "    for i, j in enumerate(get_min_seam(img_seam)):\n",
    "        carve_mask[i, j] = 1\n",
    "        if resize == -1:\n",
    "            resized_img[i] = np.delete(img[i], j, axis=0)\n",
    "        else:\n",
    "            resized_img[i] = np.insert(img[i], j + 1, axis=0)\n",
    "        \n",
    "        if resized_mask is not None:\n",
    "            if resize == -1:\n",
    "                resized_mask[i] = np.delete(mask[i], j)\n",
    "            else:\n",
    "                resized_mask[i] = np.insert(mask[i], j + 1)\n",
    "\n",
    "    if mode == 'vertical':\n",
    "        return (resized_img.transpose(1, 0, 2),\n",
    "                resized_mask.T if resized_mask is not None else None,\n",
    "                carve_mask.T)\n",
    "\n",
    "    return (resized_img, resized_mask, carve_mask)"
   ]
  },
  {
   "cell_type": "code",
   "execution_count": 5,
   "metadata": {
    "collapsed": true
   },
   "outputs": [],
   "source": [
    "def seam_carve_mask(img, mode, mask):\n",
    "    resized_mask = np.copy(mask)\n",
    "    resized_img = np.copy(img)\n",
    "    final_carve_mask = np.zeros(img.shape[:2])\n",
    "    \n",
    "    i = 0\n",
    "\n",
    "    while True:\n",
    "        resized_img, resized_mask, carve_mask = seam_carve_nomask(resized_img, mode, resized_mask)\n",
    "        if i == 0:\n",
    "            final_carve_mask = carve_mask\n",
    "        i += 1\n",
    "        if (resized_mask == -1).sum() == 0:\n",
    "            break\n",
    "    \n",
    "    return (resized_img, resized_mask, final_carve_mask)"
   ]
  },
  {
   "cell_type": "code",
   "execution_count": 6,
   "metadata": {
    "collapsed": true
   },
   "outputs": [],
   "source": [
    "def seam_carve(img, mode, mask=None):\n",
    "    if mask is None:\n",
    "        return seam_carve_nomask(img, mode)\n",
    "    return seam_carve_mask(img, mode, mask)"
   ]
  },
  {
   "cell_type": "code",
   "execution_count": 7,
   "metadata": {
    "collapsed": true
   },
   "outputs": [],
   "source": [
    "def seam_coords(seam_mask):\n",
    "    coords = np.where(seam_mask)\n",
    "    t = [i for i in zip(coords[0], coords[1])]\n",
    "    t.sort(key = lambda i: i[0])\n",
    "    return tuple(t)\n",
    "\n",
    "def msk_to_std(msk):\n",
    "    return ((msk[:,:,0]!=0)*(-1) + (msk[:,:,1]!=0)).astype('int8')"
   ]
  },
  {
   "cell_type": "code",
   "execution_count": 8,
   "metadata": {
    "collapsed": false
   },
   "outputs": [],
   "source": [
    "img = io.imread(\"./tests/pic_06.png\")\n",
    "img_mask = io.imread(\"./tests/pic_06_mask.png\")"
   ]
  },
  {
   "cell_type": "code",
   "execution_count": 9,
   "metadata": {
    "collapsed": false,
    "scrolled": true
   },
   "outputs": [],
   "source": [
    "tmp, _, mask = seam_carve(img, 'horizontal shrink', msk_to_std(img_mask))"
   ]
  },
  {
   "cell_type": "code",
   "execution_count": 10,
   "metadata": {
    "collapsed": false,
    "scrolled": true
   },
   "outputs": [],
   "source": [
    "f = open('tests/pic_06_seams', 'rb')\n",
    "ans = []\n",
    "while True:\n",
    "    try:\n",
    "        ans += [pickle.load(f)]\n",
    "    except:\n",
    "        break"
   ]
  },
  {
   "cell_type": "code",
   "execution_count": 11,
   "metadata": {
    "collapsed": true
   },
   "outputs": [],
   "source": [
    "mask_true = np.zeros_like(mask)\n",
    "for i, j in ans[4]:\n",
    "    mask_true[i, j] = 1"
   ]
  },
  {
   "cell_type": "code",
   "execution_count": 12,
   "metadata": {
    "collapsed": false
   },
   "outputs": [
    {
     "data": {
      "text/plain": [
       "True"
      ]
     },
     "execution_count": 12,
     "metadata": {},
     "output_type": "execute_result"
    }
   ],
   "source": [
    "np.all(mask == mask_true)"
   ]
  },
  {
   "cell_type": "code",
   "execution_count": 13,
   "metadata": {
    "collapsed": false
   },
   "outputs": [
    {
     "data": {
      "image/png": "[encoded data removed]",
      "text/plain": [
       "<matplotlib.figure.Figure at 0x7f893f8732e8>"
      ]
     },
     "metadata": {},
     "output_type": "display_data"
    },
    {
     "data": {
      "image/png": "[encoded data removed]",
      "text/plain": [
       "<matplotlib.figure.Figure at 0x7f893f842a90>"
      ]
     },
     "metadata": {},
     "output_type": "display_data"
    }
   ],
   "source": [
    "plt.figure(figsize=(10, 10))\n",
    "plt.imshow(mask, cmap='gray')\n",
    "plt.show()\n",
    "\n",
    "plt.figure(figsize=(10, 10))\n",
    "plt.imshow(mask_true, cmap='gray')\n",
    "plt.show()"
   ]
  },
  {
   "cell_type": "code",
   "execution_count": null,
   "metadata": {
    "collapsed": true
   },
   "outputs": [],
   "source": []
  },
  {
   "cell_type": "code",
   "execution_count": null,
   "metadata": {
    "collapsed": true
   },
   "outputs": [],
   "source": []
  }
 ],
 "metadata": {
  "kernelspec": {
   "display_name": "Python 3",
   "language": "python",
   "name": "python3"
  },
  "language_info": {
   "codemirror_mode": {
    "name": "ipython",
    "version": 3
   },
   "file_extension": ".py",
   "mimetype": "text/x-python",
   "name": "python",
   "nbconvert_exporter": "python",
   "pygments_lexer": "ipython3",
   "version": "3.5.1"
  }
 },
 "nbformat": 4,
 "nbformat_minor": 1
}
