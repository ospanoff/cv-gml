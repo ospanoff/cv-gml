{
 "cells": [
  {
   "cell_type": "code",
   "execution_count": 1,
   "metadata": {
    "collapsed": true
   },
   "outputs": [],
   "source": [
    "# %load_ext autoreload\n",
    "# %autoreload 1\n",
    "\n",
    "import time\n",
    "import numpy as np\n",
    "import pandas as pd\n",
    "import matplotlib.pyplot as plt\n",
    "\n",
    "from skimage import io\n",
    "from sklearn.svm import SVC, LinearSVC\n",
    "from sklearn.metrics import accuracy_score\n",
    "from sklearn.multiclass import OneVsRestClassifier, OneVsOneClassifier\n",
    "from sklearn.model_selection import GridSearchCV, train_test_split\n",
    "\n",
    "# %aimport fit_and_classify\n",
    "import fit_and_classify"
   ]
  },
  {
   "cell_type": "code",
   "execution_count": 2,
   "metadata": {
    "collapsed": true
   },
   "outputs": [],
   "source": [
    "def extract_features(path, filenames):\n",
    "    hog_length = len(fit_and_classify.extract_hog(io.imread(path + '/' + filenames[0], plugin='matplotlib')))\n",
    "    data = np.zeros((len(filenames), hog_length))\n",
    "    for i in range(0, len(filenames)):\n",
    "        filename = path + '/' + filenames[i]\n",
    "        data[i, :] = fit_and_classify.extract_hog(io.imread(filename, plugin='matplotlib'))\n",
    "    return data"
   ]
  },
  {
   "cell_type": "code",
   "execution_count": 3,
   "metadata": {
    "collapsed": true
   },
   "outputs": [],
   "source": [
    "gt = pd.read_csv('../data/train/gt.csv')\n",
    "X_fnames = gt.filename.values\n",
    "y = gt.class_id.values"
   ]
  },
  {
   "cell_type": "markdown",
   "metadata": {},
   "source": [
    "### CROSS VAL"
   ]
  },
  {
   "cell_type": "code",
   "execution_count": 4,
   "metadata": {
    "collapsed": true
   },
   "outputs": [],
   "source": [
    "X_tr_fnames, X_te_fnames, y_tr, y_te = train_test_split(X_fnames, y, stratify=y)\n",
    "X = extract_features(\"../data/train/\", X_te_fnames)\n",
    "# X_tr = extract_features(\"../data/train/\", X_tr_fnames[:10000])\n",
    "# X_te = extract_features(\"../data/train/\", X_te_fnames[:1000])\n",
    "X_tr, X_te, y_tr, y_te = train_test_split(X, y_te, stratify=y_te)"
   ]
  },
  {
   "cell_type": "code",
   "execution_count": 15,
   "metadata": {
    "collapsed": true
   },
   "outputs": [],
   "source": [
    "params = {\n",
    "    'C': np.logspace(-5, -1, 5).tolist() + np.linspace(1, 500, 5).tolist(),\n",
    "    'gamma': np.linspace(0.0001, 0.1, 5).tolist()\n",
    "}\n",
    "\n",
    "clf = SVC()\n",
    "cv = GridSearchCV(clf, params, n_jobs=-1, cv=5)"
   ]
  },
  {
   "cell_type": "code",
   "execution_count": null,
   "metadata": {},
   "outputs": [],
   "source": [
    "%time cv.fit(X, y_te)"
   ]
  },
  {
   "cell_type": "markdown",
   "metadata": {},
   "source": [
    "#### CHECK"
   ]
  },
  {
   "cell_type": "code",
   "execution_count": 11,
   "metadata": {},
   "outputs": [],
   "source": [
    "X_tr_fnames, X_te_fnames, y_tr, y_te = train_test_split(X_fnames, y, stratify=y)\n",
    "X_tr = extract_features(\"../data/train/\", X_tr_fnames)\n",
    "X_te = extract_features(\"../data/train/\", X_te_fnames)"
   ]
  },
  {
   "cell_type": "code",
   "execution_count": null,
   "metadata": {
    "collapsed": true
   },
   "outputs": [],
   "source": []
  },
  {
   "cell_type": "code",
   "execution_count": null,
   "metadata": {
    "collapsed": true
   },
   "outputs": [],
   "source": []
  }
 ],
 "metadata": {
  "kernelspec": {
   "display_name": "Python 3",
   "language": "python",
   "name": "python3"
  },
  "language_info": {
   "codemirror_mode": {
    "name": "ipython",
    "version": 3
   },
   "file_extension": ".py",
   "mimetype": "text/x-python",
   "name": "python",
   "nbconvert_exporter": "python",
   "pygments_lexer": "ipython3",
   "version": "3.6.1"
  }
 },
 "nbformat": 4,
 "nbformat_minor": 1
}
