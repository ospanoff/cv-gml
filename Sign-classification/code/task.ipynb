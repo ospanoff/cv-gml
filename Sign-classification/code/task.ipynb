{
 "cells": [
  {
   "cell_type": "code",
   "execution_count": 1,
   "metadata": {
    "collapsed": false
   },
   "outputs": [],
   "source": [
    "# %load_ext autoreload\n",
    "# %autoreload 1\n",
    "\n",
    "import time\n",
    "import numpy as np\n",
    "import pandas as pd\n",
    "import matplotlib.pyplot as plt\n",
    "\n",
    "from skimage import io\n",
    "from sklearn.svm import SVC, LinearSVC\n",
    "from sklearn.metrics import accuracy_score\n",
    "from sklearn.multiclass import OneVsRestClassifier\n",
    "from sklearn.model_selection import StratifiedKFold, train_test_split\n",
    "\n",
    "# %aimport fit_and_classify\n",
    "import fit_and_classify"
   ]
  },
  {
   "cell_type": "code",
   "execution_count": 2,
   "metadata": {
    "collapsed": true
   },
   "outputs": [],
   "source": [
    "def extract_features(path, filenames):\n",
    "    hog_length = len(fit_and_classify.extract_hog(io.imread(path + '/' + filenames[0], plugin='matplotlib')))\n",
    "    data = np.zeros((len(filenames), hog_length))\n",
    "    for i in range(0, len(filenames)):\n",
    "        filename = path + '/' + filenames[i]\n",
    "        data[i, :] = fit_and_classify.extract_hog(io.imread(filename, plugin='matplotlib'))\n",
    "    return data"
   ]
  },
  {
   "cell_type": "code",
   "execution_count": 3,
   "metadata": {
    "collapsed": true
   },
   "outputs": [],
   "source": [
    "gt = pd.read_csv('../data/train/gt.csv')\n",
    "X_fnames = gt.filename.values\n",
    "y = gt.class_id.values"
   ]
  },
  {
   "cell_type": "markdown",
   "metadata": {},
   "source": [
    "### CROSS VAL"
   ]
  },
  {
   "cell_type": "code",
   "execution_count": 42,
   "metadata": {
    "collapsed": false
   },
   "outputs": [],
   "source": [
    "X_tr_fnames, X_te_fnames, y_tr, y_te = train_test_split(X_fnames, y)\n",
    "X_tr = extract_features(\"../data/train/\", X_tr_fnames[:2000])\n",
    "# X_te = extract_features(\"../data/train/\", X_te_fnames[:1000])"
   ]
  },
  {
   "cell_type": "code",
   "execution_count": 5,
   "metadata": {
    "collapsed": true
   },
   "outputs": [],
   "source": [
    "kf = StratifiedKFold(shuffle=True)\n",
    "params = {'C': np.arange(100, 1001, 200), 'gamma': np.linspace(0.01, 0.001, 5)}\n",
    "y_tr_ = y_tr[:2000]"
   ]
  },
  {
   "cell_type": "code",
   "execution_count": 6,
   "metadata": {
    "collapsed": false,
    "scrolled": true
   },
   "outputs": [
    {
     "name": "stdout",
     "output_type": "stream",
     "text": [
      "C =  100; gamma = 0.01, 0.00775, 0.0055, 0.00325, 0.001, P = 20.00%; 215.32sec\n",
      "C =  300; gamma = 0.01, 0.00775, 0.0055, 0.00325, 0.001, P = 40.00%; 213.56sec\n",
      "C =  500; gamma = 0.01, 0.00775, 0.0055, 0.00325, 0.001, P = 60.00%; 213.22sec\n",
      "C =  700; gamma = 0.01, 0.00775, 0.0055, 0.00325, 0.001, P = 80.00%; 209.41sec\n",
      "C =  900; gamma = 0.01, 0.00775, 0.0055, 0.00325, 0.001, P = 100.00%; 207.16sec\n",
      "CPU times: user 15min 16s, sys: 9.64 s, total: 15min 26s\n",
      "Wall time: 17min 38s\n"
     ]
    }
   ],
   "source": [
    "%%time\n",
    "results = dict()\n",
    "size = len(params['C']) * len(params['gamma'])\n",
    "progress = 0\n",
    "for c in params['C']:\n",
    "    results[c] = dict()\n",
    "    start_ = time.time()\n",
    "    print('C = ', c, end='; gamma = ')\n",
    "    for gamma in params['gamma']:\n",
    "        results[c][gamma] = []\n",
    "        print(gamma, end=', ')\n",
    "        clf = OneVsRestClassifier(SVC(C=c, gamma=gamma, cache_size=5000), n_jobs=-1)\n",
    "        for train, test in kf.split(X_tr, y_tr_):\n",
    "            clf.fit(X_tr[train], y_tr_[train])\n",
    "            results[c][gamma] += [accuracy_score(y_tr_[test], clf.predict(X_tr[test]))]\n",
    "            \n",
    "        progress += 1\n",
    "    \n",
    "    print('P = {:.2f}%; {:.2f}sec'.format(100 * progress / size, time.time() - start_))"
   ]
  },
  {
   "cell_type": "code",
   "execution_count": 40,
   "metadata": {
    "collapsed": false,
    "scrolled": true
   },
   "outputs": [
    {
     "data": {
      "text/plain": [
       "{100: {0.001: [0.9019033674963397, 0.92792792792792789, 0.91705069124423966],\n",
       "  0.0032499999999999994: [0.91361639824304541,\n",
       "   0.92042042042042038,\n",
       "   0.92933947772657455],\n",
       "  0.0054999999999999997: [0.92532942898975112,\n",
       "   0.91741741741741745,\n",
       "   0.91397849462365588],\n",
       "  0.0077499999999999999: [0.92386530014641288,\n",
       "   0.92192192192192191,\n",
       "   0.92933947772657455],\n",
       "  0.01: [0.91947291361639827, 0.89789789789789787, 0.9339477726574501]},\n",
       " 300: {0.001: [0.91068814055636893, 0.92642642642642647, 0.92012288786482332],\n",
       "  0.0032499999999999994: [0.92093704245973651,\n",
       "   0.91291291291291288,\n",
       "   0.9124423963133641],\n",
       "  0.0054999999999999997: [0.92386530014641288,\n",
       "   0.91291291291291288,\n",
       "   0.91397849462365588],\n",
       "  0.0077499999999999999: [0.91800878477306003,\n",
       "   0.92042042042042038,\n",
       "   0.92012288786482332],\n",
       "  0.01: [0.92240117130307464, 0.92042042042042038, 0.93548387096774188]},\n",
       " 500: {0.001: [0.9019033674963397, 0.93093093093093093, 0.90476190476190477],\n",
       "  0.0032499999999999994: [0.91654465592972179,\n",
       "   0.92942942942942941,\n",
       "   0.91705069124423966],\n",
       "  0.0054999999999999997: [0.92386530014641288,\n",
       "   0.92042042042042038,\n",
       "   0.9124423963133641],\n",
       "  0.0077499999999999999: [0.91947291361639827,\n",
       "   0.92792792792792789,\n",
       "   0.9124423963133641],\n",
       "  0.01: [0.92679355783308937, 0.92042042042042038, 0.92780337941628266]},\n",
       " 700: {0.001: [0.92679355783308937, 0.92792792792792789, 0.90937019969278032],\n",
       "  0.0032499999999999994: [0.90775988286969256,\n",
       "   0.93093093093093093,\n",
       "   0.91090629800307221],\n",
       "  0.0054999999999999997: [0.91508052708638365,\n",
       "   0.91891891891891897,\n",
       "   0.91397849462365588],\n",
       "  0.0077499999999999999: [0.92532942898975112,\n",
       "   0.92792792792792789,\n",
       "   0.9124423963133641],\n",
       "  0.01: [0.93265007320644222, 0.89039039039039036, 0.93855606758832566]},\n",
       " 900: {0.001: [0.92093704245973651, 0.90990990990990994, 0.91090629800307221],\n",
       "  0.0032499999999999994: [0.92532942898975112,\n",
       "   0.90540540540540537,\n",
       "   0.91858678955453144],\n",
       "  0.0054999999999999997: [0.90775988286969256,\n",
       "   0.93093093093093093,\n",
       "   0.93701996927803377],\n",
       "  0.0077499999999999999: [0.92972181551976574,\n",
       "   0.92342342342342343,\n",
       "   0.91397849462365588],\n",
       "  0.01: [0.92679355783308937, 0.92042042042042038, 0.92933947772657455]}}"
      ]
     },
     "execution_count": 40,
     "metadata": {},
     "output_type": "execute_result"
    }
   ],
   "source": [
    "results"
   ]
  },
  {
   "cell_type": "markdown",
   "metadata": {},
   "source": [
    "#### CHECK"
   ]
  },
  {
   "cell_type": "code",
   "execution_count": 4,
   "metadata": {
    "collapsed": true
   },
   "outputs": [],
   "source": [
    "X_tr_fnames, X_te_fnames, y_tr, y_te = train_test_split(X_fnames, y)\n",
    "X_tr = extract_features(\"../data/train/\", X_tr_fnames[:10000])\n",
    "X_te = extract_features(\"../data/train/\", X_te_fnames[:5000])"
   ]
  },
  {
   "cell_type": "code",
   "execution_count": 10,
   "metadata": {
    "collapsed": false
   },
   "outputs": [],
   "source": [
    "# best by mean value of CV\n",
    "clf = OneVsRestClassifier(SVC(C=300, gamma=0.01, cache_size=5000), n_jobs=-1)"
   ]
  },
  {
   "cell_type": "code",
   "execution_count": 11,
   "metadata": {
    "collapsed": false
   },
   "outputs": [
    {
     "name": "stdout",
     "output_type": "stream",
     "text": [
      "0.9844\n",
      "CPU times: user 3min 45s, sys: 270 ms, total: 3min 45s\n",
      "Wall time: 5min 16s\n"
     ]
    }
   ],
   "source": [
    "%%time\n",
    "clf.fit(X_tr, y_tr[:10000])\n",
    "print(accuracy_score(y_te[:5000], clf.predict(X_te)))"
   ]
  },
  {
   "cell_type": "code",
   "execution_count": 12,
   "metadata": {
    "collapsed": false
   },
   "outputs": [],
   "source": [
    "# best by best value of CV\n",
    "clf = OneVsRestClassifier(SVC(C=700, gamma=0.01, cache_size=5000), n_jobs=-1)"
   ]
  },
  {
   "cell_type": "code",
   "execution_count": 13,
   "metadata": {
    "collapsed": false
   },
   "outputs": [
    {
     "name": "stdout",
     "output_type": "stream",
     "text": [
      "0.9844\n",
      "CPU times: user 3min 46s, sys: 267 ms, total: 3min 46s\n",
      "Wall time: 5min 5s\n"
     ]
    }
   ],
   "source": [
    "%%time\n",
    "clf.fit(X_tr, y_tr[:10000])\n",
    "print(accuracy_score(y_te[:5000], clf.predict(X_te)))"
   ]
  },
  {
   "cell_type": "code",
   "execution_count": null,
   "metadata": {
    "collapsed": true
   },
   "outputs": [],
   "source": []
  }
 ],
 "metadata": {
  "kernelspec": {
   "display_name": "Python 3",
   "language": "python",
   "name": "python3"
  },
  "language_info": {
   "codemirror_mode": {
    "name": "ipython",
    "version": 3
   },
   "file_extension": ".py",
   "mimetype": "text/x-python",
   "name": "python",
   "nbconvert_exporter": "python",
   "pygments_lexer": "ipython3",
   "version": "3.5.1"
  }
 },
 "nbformat": 4,
 "nbformat_minor": 1
}
